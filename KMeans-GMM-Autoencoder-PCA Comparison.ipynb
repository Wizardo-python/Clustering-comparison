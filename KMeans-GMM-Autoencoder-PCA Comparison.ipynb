{
  "cells": [
    {
      "cell_type": "markdown",
      "metadata": {
        "id": "FqN_pBMTjU0l"
      },
      "source": [
        "Importing packages"
      ]
    },
    {
      "cell_type": "code",
      "execution_count": 1,
      "metadata": {
        "id": "-Krcs2Retkv5"
      },
      "outputs": [],
      "source": [
        "import numpy as np\n",
        "import matplotlib.pyplot as plt\n",
        "import pandas as pd\n",
        "import sklearn\n",
        "from sklearn.decomposition import PCA\n",
        "from sklearn.cluster import KMeans\n",
        "from sklearn.model_selection import train_test_split\n",
        "from numpy import unique\n",
        "from numpy import where\n",
        "from sklearn.mixture import GaussianMixture\n",
        "from yellowbrick.cluster import InterclusterDistance  # Inter cluster distance map"
      ]
    },
    {
      "cell_type": "markdown",
      "metadata": {
        "id": "1Oi3L3DejaWQ"
      },
      "source": [
        "Mounting drive"
      ]
    },
    {
      "cell_type": "code",
      "execution_count": 2,
      "metadata": {
        "colab": {
          "base_uri": "https://localhost:8080/"
        },
        "id": "meBxU2tJWaSt",
        "outputId": "e4ac222f-bb03-4ff0-ba23-de018f45a50a"
      },
      "outputs": [
        {
          "name": "stdout",
          "output_type": "stream",
          "text": [
            "Mounted at /content/drive\n"
          ]
        }
      ],
      "source": [
        "from google.colab import drive\n",
        "drive.mount('/content/drive')"
      ]
    },
    {
      "cell_type": "markdown",
      "metadata": {
        "id": "eNlUnNbqjkbB"
      },
      "source": [
        "Importing the dataset"
      ]
    },
    {
      "cell_type": "code",
      "execution_count": 3,
      "metadata": {
        "id": "iSNTuGvvWi9o"
      },
      "outputs": [],
      "source": [
        "df = pd.read_csv(r\"/content/Dataset.csv\")"
      ]
    },
    {
      "cell_type": "markdown",
      "metadata": {
        "id": "9raokzC6jn1c"
      },
      "source": [
        "Data pre-processing"
      ]
    },
    {
      "cell_type": "code",
      "execution_count": 4,
      "metadata": {
        "colab": {
          "base_uri": "https://localhost:8080/"
        },
        "id": "SdGcPFDCWlbi",
        "outputId": "a6d14034-c4a3-42bb-bffb-01b3c74c8fb9"
      },
      "outputs": [
        {
          "data": {
            "text/plain": [
              "<bound method NDFrame.head of       Unnamed: 0        PC1       PC2       PC3       PC4       PC5       PC6  \\\n",
              "0              0 -22.292954 -1.600691  0.330602 -0.013734  0.090183  0.020969   \n",
              "1              1 -21.826742 -1.622691  0.325296 -0.000968  0.106613  0.029512   \n",
              "2              2 -21.282700 -1.605282  0.316197 -0.023318  0.071266  0.014223   \n",
              "3              3 -20.712370 -1.581811  0.328290 -0.037581  0.077426  0.003088   \n",
              "4              4 -20.184352 -1.607353  0.315499 -0.042820  0.067859 -0.010952   \n",
              "...          ...        ...       ...       ...       ...       ...       ...   \n",
              "8895        8895  29.880702  0.717671  0.741330  0.486916 -0.445544  0.655840   \n",
              "8896        8896  30.223616  0.681595 -0.045236  0.117989  0.124325  0.002266   \n",
              "8897        8897  31.695759  0.511955  0.488477 -0.425023 -0.393512 -0.064542   \n",
              "8898        8898  29.576042  0.758283  0.051856 -0.036747 -0.027718 -0.011780   \n",
              "8899        8899  31.131782  0.657785  0.176765 -0.153051 -0.117068 -0.073658   \n",
              "\n",
              "           PC7       PC8       PC9      PC10      PC11      PC12      PC13  \\\n",
              "0     0.031414 -0.568896  0.045594 -0.497482 -0.228197  0.234254 -0.063096   \n",
              "1     0.023781 -0.543101  0.004860 -0.492359 -0.209243  0.219184 -0.055819   \n",
              "2     0.028485 -0.564014  0.029006 -0.520116 -0.191617  0.211654 -0.061037   \n",
              "3     0.017815 -0.569806  0.040555 -0.517600 -0.205093  0.223456 -0.063236   \n",
              "4     0.023727 -0.557798  0.062040 -0.517373 -0.210795  0.180293 -0.094973   \n",
              "...        ...       ...       ...       ...       ...       ...       ...   \n",
              "8895 -0.045430  0.303999 -0.734897 -0.927425 -0.085928  0.447989 -0.162225   \n",
              "8896 -0.741269 -0.852211 -0.028212  0.196065 -0.236265  0.255000  0.078928   \n",
              "8897 -0.378667  0.286144  0.191735 -0.980485 -0.259414  0.366856  0.005637   \n",
              "8898  0.320678  0.022038  0.703398 -0.453722 -0.142183  0.194067  0.025116   \n",
              "8899 -0.517592 -0.360997 -0.164439 -0.239477 -0.208829  0.175561  0.050925   \n",
              "\n",
              "          PC14      PC15  \n",
              "0    -0.045628  0.018867  \n",
              "1    -0.049811  0.018250  \n",
              "2    -0.064032  0.034315  \n",
              "3    -0.038738  0.031050  \n",
              "4    -0.066773  0.025453  \n",
              "...        ...       ...  \n",
              "8895  0.097078  0.101288  \n",
              "8896  0.067502  0.066995  \n",
              "8897 -0.179513  0.065331  \n",
              "8898 -0.055927 -0.012083  \n",
              "8899 -0.055517 -0.015215  \n",
              "\n",
              "[8900 rows x 16 columns]>"
            ]
          },
          "execution_count": 4,
          "metadata": {},
          "output_type": "execute_result"
        }
      ],
      "source": [
        "data = df.copy()\n",
        "data.head"
      ]
    },
    {
      "cell_type": "code",
      "execution_count": 5,
      "metadata": {
        "colab": {
          "base_uri": "https://localhost:8080/"
        },
        "id": "CwTJpf3uW5LS",
        "outputId": "bd841e76-cd71-45f8-a842-bc09a7ef774a"
      },
      "outputs": [
        {
          "data": {
            "text/plain": [
              "Unnamed: 0    0\n",
              "PC1           0\n",
              "PC2           0\n",
              "PC3           0\n",
              "PC4           0\n",
              "PC5           0\n",
              "PC6           0\n",
              "PC7           0\n",
              "PC8           0\n",
              "PC9           0\n",
              "PC10          0\n",
              "PC11          0\n",
              "PC12          0\n",
              "PC13          0\n",
              "PC14          0\n",
              "PC15          0\n",
              "dtype: int64"
            ]
          },
          "execution_count": 5,
          "metadata": {},
          "output_type": "execute_result"
        }
      ],
      "source": [
        "data.isnull().sum()"
      ]
    },
    {
      "cell_type": "code",
      "execution_count": 6,
      "metadata": {
        "colab": {
          "base_uri": "https://localhost:8080/"
        },
        "id": "XjsVwlUHW8Le",
        "outputId": "b3602253-60fb-4b87-f056-d59ad45aa4f7"
      },
      "outputs": [
        {
          "data": {
            "text/plain": [
              "<bound method NDFrame.head of             PC1       PC2       PC3       PC4       PC5       PC6       PC7  \\\n",
              "0    -22.292954 -1.600691  0.330602 -0.013734  0.090183  0.020969  0.031414   \n",
              "1    -21.826742 -1.622691  0.325296 -0.000968  0.106613  0.029512  0.023781   \n",
              "2    -21.282700 -1.605282  0.316197 -0.023318  0.071266  0.014223  0.028485   \n",
              "3    -20.712370 -1.581811  0.328290 -0.037581  0.077426  0.003088  0.017815   \n",
              "4    -20.184352 -1.607353  0.315499 -0.042820  0.067859 -0.010952  0.023727   \n",
              "...         ...       ...       ...       ...       ...       ...       ...   \n",
              "8895  29.880702  0.717671  0.741330  0.486916 -0.445544  0.655840 -0.045430   \n",
              "8896  30.223616  0.681595 -0.045236  0.117989  0.124325  0.002266 -0.741269   \n",
              "8897  31.695759  0.511955  0.488477 -0.425023 -0.393512 -0.064542 -0.378667   \n",
              "8898  29.576042  0.758283  0.051856 -0.036747 -0.027718 -0.011780  0.320678   \n",
              "8899  31.131782  0.657785  0.176765 -0.153051 -0.117068 -0.073658 -0.517592   \n",
              "\n",
              "           PC8       PC9      PC10      PC11      PC12      PC13      PC14  \\\n",
              "0    -0.568896  0.045594 -0.497482 -0.228197  0.234254 -0.063096 -0.045628   \n",
              "1    -0.543101  0.004860 -0.492359 -0.209243  0.219184 -0.055819 -0.049811   \n",
              "2    -0.564014  0.029006 -0.520116 -0.191617  0.211654 -0.061037 -0.064032   \n",
              "3    -0.569806  0.040555 -0.517600 -0.205093  0.223456 -0.063236 -0.038738   \n",
              "4    -0.557798  0.062040 -0.517373 -0.210795  0.180293 -0.094973 -0.066773   \n",
              "...        ...       ...       ...       ...       ...       ...       ...   \n",
              "8895  0.303999 -0.734897 -0.927425 -0.085928  0.447989 -0.162225  0.097078   \n",
              "8896 -0.852211 -0.028212  0.196065 -0.236265  0.255000  0.078928  0.067502   \n",
              "8897  0.286144  0.191735 -0.980485 -0.259414  0.366856  0.005637 -0.179513   \n",
              "8898  0.022038  0.703398 -0.453722 -0.142183  0.194067  0.025116 -0.055927   \n",
              "8899 -0.360997 -0.164439 -0.239477 -0.208829  0.175561  0.050925 -0.055517   \n",
              "\n",
              "          PC15  \n",
              "0     0.018867  \n",
              "1     0.018250  \n",
              "2     0.034315  \n",
              "3     0.031050  \n",
              "4     0.025453  \n",
              "...        ...  \n",
              "8895  0.101288  \n",
              "8896  0.066995  \n",
              "8897  0.065331  \n",
              "8898 -0.012083  \n",
              "8899 -0.015215  \n",
              "\n",
              "[8900 rows x 15 columns]>"
            ]
          },
          "execution_count": 6,
          "metadata": {},
          "output_type": "execute_result"
        }
      ],
      "source": [
        "data.drop([\"Unnamed: 0\"], axis = 1, inplace = True)\n",
        "data.head"
      ]
    },
    {
      "cell_type": "markdown",
      "metadata": {
        "id": "SZSDEWHBaKnc"
      },
      "source": [
        "Scree plot"
      ]
    },
    {
      "cell_type": "code",
      "execution_count": 7,
      "metadata": {
        "colab": {
          "base_uri": "https://localhost:8080/",
          "height": 352
        },
        "id": "NMZKMgIBaJnZ",
        "outputId": "8482e4f2-972d-42ed-dbd3-2b2b686a1fc1"
      },
      "outputs": [
        {
          "data": {
            "image/png": "[encoded data removed]",
            "text/plain": [
              "<Figure size 2000x500 with 1 Axes>"
            ]
          },
          "metadata": {},
          "output_type": "display_data"
        }
      ],
      "source": [
        "pca = PCA(n_components = 15)\n",
        "data_pca = pca.fit_transform(data)\n",
        "plt.figure(figsize=(20, 5))\n",
        "plt.plot(range(data.shape[1]) ,pca.explained_variance_ratio_)\n",
        "plt.xticks(range(data.shape[1]))\n",
        "plt.grid(True)\n",
        "plt.title('Scree Plot')\n",
        "plt.xlabel('PC')\n",
        "plt.ylabel('Data')\n",
        "plt.show()"
      ]
    },
    {
      "cell_type": "markdown",
      "metadata": {
        "id": "-GVUepQ3WgZX"
      },
      "source": [
        "Higher dimensional data is problematic as after a certain number of principle components, the data becomes redundant, and the classifiers struggle to classify the data efficiently. As seen in the case of GMM herewith. Thus, optimum number of principle components that seem to define the data entirely is 4. Thus, clustering was done on first 4 principal components that seem to define the variance in all of the dataset provided."
      ]
    },
    {
      "cell_type": "code",
      "execution_count": 8,
      "metadata": {
        "colab": {
          "base_uri": "https://localhost:8080/"
        },
        "id": "uHuSMQv0YV4X",
        "outputId": "dfc89b48-a97a-43c8-b2ee-3c5badcb09a2"
      },
      "outputs": [
        {
          "data": {
            "text/plain": [
              "<bound method NDFrame.head of             PC1       PC2       PC3       PC4\n",
              "0    -22.292954 -1.600691  0.330602 -0.013734\n",
              "1    -21.826742 -1.622691  0.325296 -0.000968\n",
              "2    -21.282700 -1.605282  0.316197 -0.023318\n",
              "3    -20.712370 -1.581811  0.328290 -0.037581\n",
              "4    -20.184352 -1.607353  0.315499 -0.042820\n",
              "...         ...       ...       ...       ...\n",
              "8895  29.880702  0.717671  0.741330  0.486916\n",
              "8896  30.223616  0.681595 -0.045236  0.117989\n",
              "8897  31.695759  0.511955  0.488477 -0.425023\n",
              "8898  29.576042  0.758283  0.051856 -0.036747\n",
              "8899  31.131782  0.657785  0.176765 -0.153051\n",
              "\n",
              "[8900 rows x 4 columns]>"
            ]
          },
          "execution_count": 8,
          "metadata": {},
          "output_type": "execute_result"
        }
      ],
      "source": [
        "data_3 = data.copy()\n",
        "data_3.drop([\"PC5\", \"PC6\", \"PC7\", \"PC8\", \"PC9\", \"PC10\", \"PC11\", \"PC12\", \"PC13\", \"PC14\", \"PC15\"], axis = 1, inplace = True)\n",
        "data_3.head"
      ]
    },
    {
      "cell_type": "markdown",
      "metadata": {
        "id": "zfurGBi-aRmw"
      },
      "source": [
        "KMEANS clustering"
      ]
    },
    {
      "cell_type": "code",
      "execution_count": 9,
      "metadata": {
        "colab": {
          "base_uri": "https://localhost:8080/",
          "height": 527
        },
        "id": "oGAsOwNEXv8m",
        "outputId": "443279bf-ecd4-4868-cd1e-6e98ac79786d"
      },
      "outputs": [
        {
          "data": {
            "image/png": "[encoded data removed]",
            "text/plain": [
              "<Figure size 1500x600 with 1 Axes>"
            ]
          },
          "metadata": {},
          "output_type": "display_data"
        }
      ],
      "source": [
        "# To find optimal number of clusters considering full data\n",
        "wcss = []\n",
        "minClust = 1\n",
        "maxClust = 16\n",
        "for i in range(minClust, maxClust):\n",
        "    kmeans = KMeans(n_clusters = i, init = 'k-means++', max_iter = 300, n_init = 10, random_state = 0)\n",
        "    kmeans.fit(data_3)\n",
        "    wcss.append(kmeans.inertia_)\n",
        "plt.figure(figsize = (15, 6))\n",
        "plt.plot(range(minClust, maxClust), wcss)\n",
        "plt.title('Elbow Method')\n",
        "plt.xlabel('Number of clusters')\n",
        "plt.ylabel('SSE')\n",
        "plt.xticks(np.arange(minClust, maxClust, 1))\n",
        "plt.grid(True)\n",
        "plt.show()"
      ]
    },
    {
      "cell_type": "markdown",
      "metadata": {
        "id": "ix368JaqYSb5"
      },
      "source": [
        "From here, we find that 3 number of clusters are appropriate for data clustering of 15 dimensional data using kmeans. We will be classifying the data into 3 clusters using GMM as well."
      ]
    },
    {
      "cell_type": "code",
      "execution_count": 10,
      "metadata": {
        "colab": {
          "base_uri": "https://localhost:8080/",
          "height": 669
        },
        "id": "KZWOPhM2ZYse",
        "outputId": "6ac4cf3c-ba20-4e05-feb3-749f95f4418e"
      },
      "outputs": [
        {
          "name": "stdout",
          "output_type": "stream",
          "text": [
            "Silhouette Score: 0.5503\n",
            "Calinski Harabasz Score: 31271.5983\n",
            "Davies Bouldin Score: 0.5644\n"
          ]
        },
        {
          "name": "stderr",
          "output_type": "stream",
          "text": [
            "/usr/local/lib/python3.9/dist-packages/sklearn/base.py:439: UserWarning: X does not have valid feature names, but KMeans was fitted with feature names\n",
            "  warnings.warn(\n",
            "/usr/local/lib/python3.9/dist-packages/sklearn/manifold/_mds.py:299: FutureWarning: The default value of `normalized_stress` will change to `'auto'` in version 1.4. To suppress this warning, manually set the value of `normalized_stress`.\n",
            "  warnings.warn(\n"
          ]
        },
        {
          "data": {
            "image/png": "[encoded data removed]",
            "text/plain": [
              "<Figure size 800x550 with 2 Axes>"
            ]
          },
          "metadata": {},
          "output_type": "display_data"
        },
        {
          "data": {
            "text/plain": [
              "<Axes: title={'center': 'KMeans Intercluster Distance Map (via MDS)'}, xlabel='PC2', ylabel='PC1'>"
            ]
          },
          "execution_count": 10,
          "metadata": {},
          "output_type": "execute_result"
        }
      ],
      "source": [
        "kmeans = KMeans(n_clusters = 3, init = 'k-means++', max_iter = 500, n_init = 10, random_state = 640)\n",
        "predictions = kmeans.fit_predict(data_3)\n",
        "\n",
        "from sklearn.metrics import silhouette_score \n",
        "from sklearn.metrics import calinski_harabasz_score\n",
        "from sklearn.metrics import davies_bouldin_score\n",
        "\n",
        "# Calculate cluster validation metrics\n",
        "score_kemans_s = silhouette_score(data_3, kmeans.labels_, metric = 'euclidean')\n",
        "score_kemans_c = calinski_harabasz_score(data_3, kmeans.labels_)\n",
        "score_kemans_d = davies_bouldin_score(data_3, predictions)\n",
        "# -1 means data is incorrect, 0 means it is overlapping, 1 means nicely separated (kmeans is better than gmm)\n",
        "print('Silhouette Score: %.4f' % score_kemans_s)\n",
        "# more the score, better the clustering of the data (kmeans is better than gmm)\n",
        "print('Calinski Harabasz Score: %.4f' % score_kemans_c)\n",
        "# lower the score, better is the clustering of the data (kmeans is better than gmm)\n",
        "print('Davies Bouldin Score: %.4f' % score_kemans_d)\n",
        "\n",
        "# Instantiate the clustering model and visualizer\n",
        "visualizer = InterclusterDistance(kmeans)\n",
        "visualizer.fit(data_3)        # Fit the data to the visualizer\n",
        "visualizer.show()        # Finalize and render the figure"
      ]
    },
    {
      "cell_type": "markdown",
      "metadata": {
        "id": "NLIrz_gcaYxp"
      },
      "source": [
        "GMM clustering"
      ]
    },
    {
      "cell_type": "code",
      "execution_count": 11,
      "metadata": {
        "colab": {
          "base_uri": "https://localhost:8080/"
        },
        "id": "7wcZSLFHZdDA",
        "outputId": "4a9d3f61-1f65-404b-d148-f6e88ff96d53"
      },
      "outputs": [
        {
          "name": "stdout",
          "output_type": "stream",
          "text": [
            "Silhouette Score: 0.5040\n",
            "Calinski Harabasz Score: 25759.4973\n",
            "Davies Bouldin Score: 0.5858\n"
          ]
        }
      ],
      "source": [
        "# define the model\n",
        "model = GaussianMixture(n_components = 3, covariance_type = \"full\", random_state = 10)\n",
        "# fit the model\n",
        "model.fit(data_3)\n",
        "# assign a cluster to each example\n",
        "yhat = model.predict(data_3)\n",
        "# retrieve unique clusters\n",
        "clusters = unique(yhat)\n",
        "# Calculate cluster validation score\n",
        "score_dbsacn_s = silhouette_score(data_3, yhat, metric = 'euclidean')\n",
        "score_dbsacn_c = calinski_harabasz_score(data_3, yhat)\n",
        "score_dbsacn_d = davies_bouldin_score(data_3, yhat)\n",
        "print('Silhouette Score: %.4f' % score_dbsacn_s)\n",
        "print('Calinski Harabasz Score: %.4f' % score_dbsacn_c)\n",
        "print('Davies Bouldin Score: %.4f' % score_dbsacn_d)"
      ]
    },
    {
      "cell_type": "markdown",
      "metadata": {
        "id": "3Me441aOX0iw"
      },
      "source": [
        "The result comparison between K-Means and GMM was done based on 3 metrics. Silhouette Score, Calinski Harabasz Score, and Davies Bouldin Score were used to compare the two clustering methods. K-Means seemed to perform better for the dataset provided considering the metrics values obtained."
      ]
    },
    {
      "cell_type": "markdown",
      "metadata": {
        "id": "Y1Z6sT-lYVEk"
      },
      "source": [
        "K-means clustering is easier to implement than GMM. K-means is better than GMM when scaling large datasets. K-Means is faster than GMM in performance as GMM which requires more iterations to converge. It seems that the results of clustering from k-means is easier to interpret and visualize. K-means assumes that clusters are spherical in shape, but GMM does not. GMM is a more generalizable version of K-means that can be used to cluster data with different shapes and sizes. GMM is sought to be used for a more flexible data."
      ]
    },
    {
      "cell_type": "markdown",
      "metadata": {
        "id": "H6pJFLuUagA9"
      },
      "source": [
        "Autoencoder implementation"
      ]
    },
    {
      "cell_type": "code",
      "execution_count": 12,
      "metadata": {
        "id": "fRA7s7zBRzKy"
      },
      "outputs": [],
      "source": [
        "import tensorflow as tf\n",
        "from keras.models import Model, load_model\n",
        "from keras.layers import Input, Dense, Layer, InputSpec\n",
        "from keras.callbacks import ModelCheckpoint, TensorBoard\n",
        "from keras import regularizers, activations, initializers, constraints, Sequential\n",
        "from keras import backend as K\n",
        "from keras.constraints import UnitNorm, Constraint"
      ]
    },
    {
      "cell_type": "code",
      "execution_count": 13,
      "metadata": {
        "colab": {
          "base_uri": "https://localhost:8080/"
        },
        "id": "ehwrr9qIR6lM",
        "outputId": "f2f86e63-43e7-4c32-ed37-f057f65800c4"
      },
      "outputs": [
        {
          "name": "stdout",
          "output_type": "stream",
          "text": [
            "Model: \"sequential\"\n",
            "_________________________________________________________________\n",
            " Layer (type)                Output Shape              Param #   \n",
            "=================================================================\n",
            " dense (Dense)               (None, 3)                 48        \n",
            "                                                                 \n",
            " dense_1 (Dense)             (None, 15)                60        \n",
            "                                                                 \n",
            "=================================================================\n",
            "Total params: 108\n",
            "Trainable params: 108\n",
            "Non-trainable params: 0\n",
            "_________________________________________________________________\n"
          ]
        },
        {
          "data": {
            "text/plain": [
              "<keras.callbacks.History at 0x7fecc71729a0>"
            ]
          },
          "execution_count": 13,
          "metadata": {},
          "output_type": "execute_result"
        }
      ],
      "source": [
        "X_train, X_test = train_test_split(data, test_size = 0.1, random_state = 123)\n",
        "nb_epoch = 140\n",
        "batch_size = 16\n",
        "input_dim = X_train.shape[1] #num of predictor variables\n",
        "encoding_dim = 3\n",
        "learning_rate = 1e-4\n",
        "\n",
        "encoder = Dense(encoding_dim, activation=\"linear\", input_shape = (input_dim,), use_bias = True) \n",
        "decoder = Dense(input_dim, activation=\"linear\", use_bias = True)\n",
        "\n",
        "autoencoder = Sequential()\n",
        "autoencoder.add(encoder)\n",
        "autoencoder.add(decoder)\n",
        "\n",
        "autoencoder.compile(metrics = ['accuracy'],\n",
        "                    loss = 'mean_squared_error',\n",
        "                    optimizer = 'adam')\n",
        "autoencoder.summary()\n",
        "\n",
        "autoencoder.fit(X_train, X_train,\n",
        "                epochs=nb_epoch,\n",
        "                batch_size = batch_size,\n",
        "                shuffle = True,\n",
        "                verbose = 0)"
      ]
    },
    {
      "cell_type": "code",
      "execution_count": 14,
      "metadata": {
        "colab": {
          "base_uri": "https://localhost:8080/"
        },
        "id": "EZ77RNHAR9cN",
        "outputId": "cadc3502-5bec-4f9d-b166-4d5bee221ba8"
      },
      "outputs": [
        {
          "name": "stdout",
          "output_type": "stream",
          "text": [
            "251/251 [==============================] - 1s 2ms/step\n",
            "Train reconstrunction error\n",
            " 0.12730409787562247\n",
            "28/28 [==============================] - 0s 1ms/step\n",
            "Test reconstrunction error\n",
            " 0.12695369562367378\n"
          ]
        }
      ],
      "source": [
        "train_predictions = autoencoder.predict(X_train)\n",
        "print('Train reconstrunction error\\n', sklearn.metrics.mean_squared_error(X_train, train_predictions))\n",
        "test_predictions = autoencoder.predict(X_test)\n",
        "print('Test reconstrunction error\\n', sklearn.metrics.mean_squared_error(X_test, test_predictions))"
      ]
    },
    {
      "cell_type": "code",
      "execution_count": 15,
      "metadata": {
        "colab": {
          "base_uri": "https://localhost:8080/"
        },
        "id": "sdPUokyVSDeb",
        "outputId": "66e3d2cb-fe20-4fee-ac83-931759d4efc8"
      },
      "outputs": [
        {
          "name": "stdout",
          "output_type": "stream",
          "text": [
            "Reconstruction error: 0.1271619980109303\n"
          ]
        },
        {
          "name": "stderr",
          "output_type": "stream",
          "text": [
            "/usr/local/lib/python3.9/dist-packages/numpy/core/fromnumeric.py:3472: FutureWarning: In a future version, DataFrame.mean(axis=None) will return a scalar mean over the entire DataFrame. To retain the old behavior, use 'frame.mean(axis=0)' or just 'frame.mean()'\n",
            "  return mean(axis=axis, dtype=dtype, out=out, **kwargs)\n"
          ]
        }
      ],
      "source": [
        "# Comparing it with PCA implemention\n",
        "pca = PCA(n_components = 3)\n",
        "pca.fit(data)\n",
        "\n",
        "# Transforming the data using the PCA model\n",
        "X_pca = pca.transform(data)\n",
        "\n",
        "# Inverse transformation of the PCA data to get the reconstructed data\n",
        "X_reconstructed = pca.inverse_transform(X_pca)\n",
        "\n",
        "# Calculating the reconstruction error as the mean squared error between the original data and the reconstructed data\n",
        "reconstruction_error = np.mean((data - X_reconstructed)**2)\n",
        "reconstruction_error = np.mean(reconstruction_error)\n",
        "print(\"Reconstruction error:\", reconstruction_error)"
      ]
    },
    {
      "cell_type": "markdown",
      "metadata": {
        "id": "2ujwn7fB6aq0"
      },
      "source": [
        "MSE of 0.12 is obtained for dimensionality reduction with autoencoders with just 1 layer whereas the MSE for PCA dimensionality reduction is 0.12. Clearly, autoencoders do a better job in dimensionality reduction for non-linear data when optimum number of layers are chosen.\n",
        "\n",
        "In case of autoencoders, though it is tricky to estimate the number of network layers according to the dataset that is fed to it, to have an effective dimensionality reduction, it can be employed when the data is linear as well as non-linear. PCA on the other hand can be used in case dataset is linear.\n",
        "\n",
        "PCA is computationally faster than autoencoders as autoencoders use neural networks which are computationally not cheap.\n",
        "\n",
        "In case of autoencoders, overfitting is very much a possibility as the number of layers used may tend to overfit the predicted data on the ground truth."
      ]
    }
  ],
  "metadata": {
    "colab": {
      "provenance": []
    },
    "kernelspec": {
      "display_name": "Python 3",
      "name": "python3"
    },
    "language_info": {
      "name": "python"
    }
  },
  "nbformat": 4,
  "nbformat_minor": 0
}
